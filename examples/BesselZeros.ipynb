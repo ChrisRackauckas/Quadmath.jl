{
 "cells": [
  {
   "cell_type": "markdown",
   "metadata": {},
   "source": [
    "## Zeros of Bessel functions\n",
    "Let $j_{\\nu,m}$ denote the $m$th zero of the Bessel function $J_\\nu(z)$.\n",
    "Asymptotically it holds\n",
    "\n",
    "$$\\mathop{j_{\\nu,m}}\\nolimits\\nolimits\\sim a-\\frac{\\mu-1}{8a}\n",
    "-\\frac{4(\\mu-1)(7\\mu-31)}{3(8a)^{3}}-\\frac{32(\\mu-1)(83\\mu^{2}-982\\mu+3779\n",
    ")}{15(8a)^{5}}-\\frac{64(\\mu-1)(6949\\mu^{3}-1\\;53855\\mu^{2}+1585743\\mu-6277\n",
    "237)}{105(8a)^{7}}-\\cdots$$\n",
    "\n",
    "for $m\\to\\infty$ where $a=(m+\\frac{1}{2}\\nu-\\frac{1}{4})\\pi$ and $\\mu=4\\nu^2$, cf.\n",
    "http://dlmf.nist.gov/10.21#vi. \n",
    "\n",
    "The following function computes this approximation for $j_{\\nu,m}$:"
   ]
  },
  {
   "cell_type": "code",
   "execution_count": 1,
   "metadata": {
    "collapsed": false
   },
   "outputs": [
    {
     "data": {
      "text/plain": [
       "besselj_zero_approx (generic function with 1 method)"
      ]
     },
     "execution_count": 1,
     "metadata": {},
     "output_type": "execute_result"
    }
   ],
   "source": [
    "function besselj_zero_approx(ν::Integer, m::Integer)\n",
    "    μ = 4*ν^2\n",
    "    a = (m+ν/2-1/4)*π\n",
    "    return (a\n",
    "      -(μ-1)/(8a) - (4*(μ-1)*(7μ-31))/(3*(8*a)^3)\n",
    "      -(32*(μ-1)*(83*μ^2-982*μ+3779))/(15*(8*a)^5)\n",
    "      -(64*(μ-1)*(6949*μ^3-153855*μ^2+1585743*μ-6277237))/(105*(8*a)^7)\n",
    "    )\n",
    "end"
   ]
  },
  {
   "cell_type": "markdown",
   "metadata": {},
   "source": [
    "Starting from an approximation for a zero of $J_\\nu(z)$ the following function\n",
    "improves this approximation iteratively using Newton's method.\n",
    "For the derivative of $J_\\nu(z)$ needed by Newton's method we use \n",
    "$$\\mathop{J_{\\nu}'}\\!\\left(z\\right)=\\mathop{J_{\n",
    "\\nu-1}}\\nolimits\\!\\left(z\\right)-\\frac{\\nu}{z}\\mathop{J_{\\nu}}\n",
    "\\nolimits\\!\\left(z\\right).$$"
   ]
  },
  {
   "cell_type": "code",
   "execution_count": 2,
   "metadata": {
    "collapsed": false
   },
   "outputs": [
    {
     "data": {
      "text/plain": [
       "besselj_zero_iter (generic function with 1 method)"
      ]
     },
     "execution_count": 2,
     "metadata": {},
     "output_type": "execute_result"
    }
   ],
   "source": [
    "function besselj_zero_iter(ν::Integer, z::AbstractFloat)\n",
    "    T = typeof(z)\n",
    "    ɛ = eps(T)\n",
    "    for i = 1:200\n",
    "        J = besselj(ν, z)\n",
    "        if abs(J) < 1000ɛ \n",
    "            break\n",
    "        end        \n",
    "        Jprime = besselj(ν-1, z) - ν*J/z\n",
    "        z -= J/Jprime   \n",
    "        if i==200\n",
    "            println(\"200 iterations, res=\",abs(J))\n",
    "        end\n",
    "    end\n",
    "    return z\n",
    "end"
   ]
  },
  {
   "cell_type": "code",
   "execution_count": 3,
   "metadata": {
    "collapsed": false
   },
   "outputs": [
    {
     "data": {
      "text/plain": [
       "besselj_zero (generic function with 2 methods)"
      ]
     },
     "execution_count": 3,
     "metadata": {},
     "output_type": "execute_result"
    }
   ],
   "source": [
    "besselj_zero(ν, m, T=Float64) = besselj_zero_iter(ν, convert(T, besselj_zero_approx(ν, m)))"
   ]
  },
  {
   "cell_type": "markdown",
   "metadata": {},
   "source": [
    "Let $j_{\\nu,m}'$ denote the $m$th zero of the derivative $J_\\nu'(z)$.\n",
    "Asymptotically it holds\n",
    "\n",
    "$$\\mathop{j_{\\nu,m}}\\nolimits',\\mathop{y_{\\nu,m}}\\nolimits'\\sim b-\\frac{\\mu+%\n",
    "3}{8b}-\\frac{4(7\\mu^{2}+82\\mu-9)}{3(8b)^{3}}-\\frac{32(83\\mu^{3}+2075\\mu^{2}-30%\n",
    "39\\mu+3537)}{15(8b)^{5}}-\\frac{64(6949\\mu^{4}+2\\;96492\\mu^{3}-12\\;48002\\mu^{2}%\n",
    "+74\\;14380\\mu-58\\;53627)}{105(8b)^{7}}-\\cdots,$$\n",
    "\n",
    "for $m\\to\\infty$ where $b=(m+\\frac{1}{2}\\nu-\\frac{3}{4})\\pi$ and $\\mu=4\\nu^2$, cf.\n",
    "http://dlmf.nist.gov/10.21#vi.  \n",
    "\n",
    "The following function computes this approximation for $j_{\\nu,m}'$:"
   ]
  },
  {
   "cell_type": "code",
   "execution_count": 4,
   "metadata": {
    "collapsed": false
   },
   "outputs": [
    {
     "data": {
      "text/plain": [
       "besseljprime_zero_approx (generic function with 1 method)"
      ]
     },
     "execution_count": 4,
     "metadata": {},
     "output_type": "execute_result"
    }
   ],
   "source": [
    "function besseljprime_zero_approx(ν::Integer, m::Integer)\n",
    "    #if (ν==0 && m==1)\n",
    "    #    return 0.0\n",
    "    #end\n",
    "    if ν==0\n",
    "        m += 1\n",
    "    end\n",
    "    μ = 4*ν^2\n",
    "    b = (m+ν/2-3/4)*π\n",
    "    return (b\n",
    "      -(μ+3)/(8b) - 4*(7*μ^2+82*μ-9)/(3*(8*b)^3)\n",
    "      -32*(83*μ^3+2075*μ^2-3039*μ+3537)/(15*(8*b)^5)\n",
    "      -64*(6949*μ^4+296492*μ^3-1248002*μ^2+7414380*μ-5853627)/(105*(8*b)^7)\n",
    "    )\n",
    "end"
   ]
  },
  {
   "cell_type": "markdown",
   "metadata": {},
   "source": [
    "Starting from an approximation for a zero of $J_\\nu'(z)$ the following function\n",
    "improves this approximation iteratively using Newton's method.\n",
    "For the second derivative $J_\\nu''(z)$ needed by Newton's method we use \n",
    "$$J_{\\nu}''(z)=-\\frac{1}{z}J_{\\nu}'(z)+\\left(\\frac{\\nu^2}{z^2}-1\\right)J_{\\nu}(z),$$\n",
    "where $J_{\\nu}'(z)$ is given by\n",
    "$$\\mathop{J_{\\nu}'}\\!\\left(z\\right)=\\mathop{J_{\n",
    "\\nu-1}}\\nolimits\\!\\left(z\\right)-\\frac{\\nu}{z}\\mathop{J_{\\nu}}\n",
    "\\nolimits\\!\\left(z\\right).$$"
   ]
  },
  {
   "cell_type": "code",
   "execution_count": 5,
   "metadata": {
    "collapsed": false
   },
   "outputs": [
    {
     "data": {
      "text/plain": [
       "besseljprime_zero_iter (generic function with 1 method)"
      ]
     },
     "execution_count": 5,
     "metadata": {},
     "output_type": "execute_result"
    }
   ],
   "source": [
    "function besseljprime_zero_iter(ν::Integer, z::AbstractFloat)    \n",
    "    T = typeof(z)\n",
    "    ɛ = eps(T)\n",
    "    for i = 1:200\n",
    "        J = besselj(ν, z)\n",
    "        J1 = besselj(ν-1, z) - ν*J/z\n",
    "        if abs(J1) < 1000ɛ \n",
    "            break\n",
    "        end       \n",
    "        J2 = -J1/z + ((ν/z)^2-1)*J\n",
    "        z -= J1/J2   \n",
    "        if i==200\n",
    "            println(\"200 iterations, res=\",abs(J1))\n",
    "        end\n",
    "    end\n",
    "    return z\n",
    "end"
   ]
  },
  {
   "cell_type": "code",
   "execution_count": 6,
   "metadata": {
    "collapsed": false
   },
   "outputs": [
    {
     "data": {
      "text/plain": [
       "besseljprime_zero (generic function with 2 methods)"
      ]
     },
     "execution_count": 6,
     "metadata": {},
     "output_type": "execute_result"
    }
   ],
   "source": [
    "function besseljprime_zero(ν::Integer, m::Integer, T=Float64) \n",
    "    #if (ν==0 && m==1)\n",
    "    #    return 0.0\n",
    "    #end\n",
    "    besseljprime_zero_iter(ν, convert(T, besseljprime_zero_approx(ν, m)))\n",
    "end"
   ]
  },
  {
   "cell_type": "markdown",
   "metadata": {},
   "source": [
    "##Computations using Bigfloat and Quadmath/Float128\n",
    "We calculate the first 100 zeros of the first 101 Bessel functions."
   ]
  },
  {
   "cell_type": "code",
   "execution_count": 7,
   "metadata": {
    "collapsed": false
   },
   "outputs": [],
   "source": [
    "mmax = 100;\n",
    "νmax = 100;"
   ]
  },
  {
   "cell_type": "markdown",
   "metadata": {},
   "source": [
    "First we use __BigFloat__ with precision 113 bits, exactly the precison of Flot128:"
   ]
  },
  {
   "cell_type": "code",
   "execution_count": 8,
   "metadata": {
    "collapsed": false
   },
   "outputs": [
    {
     "data": {
      "text/plain": [
       "101x100 Array{BigFloat,2}:\n",
       " 2.40482555769577276862163187932645475      …  3.13374266077527844719690245101902241e+02\n",
       " 3.83170597020751231561443588630816071         3.14943472837767162458065600245612127e+02\n",
       " 5.13562230184068255630140169013776579         3.16509535868128429585533287236806371e+02\n",
       " 6.3801618959239835062366146419427028          3.18072501419144132055026568868862209e+02\n",
       " 7.58834243450380438506963000798561741         3.19632414630425705634404677271588722e+02\n",
       " 8.77148381595995401912286713340956027      …  3.21189319567600315733922205996408600e+02\n",
       " 9.93610952421768489469308912696519267         3.22743259257683369021774485609679029e+02\n",
       " 1.10863700192450838457627644359299991e+01     3.24294275722967013886561795050315039e+02\n",
       " 1.22250922640046551756128047691073987e+01     3.25842410013500062317371915749048547e+02\n",
       " 1.33543004774353310664199248834919227e+01     3.27387702238230273055544191699100512e+02\n",
       " 1.44755006865545412384516376554131522e+01  …  3.28930191594875749289975035297582472e+02\n",
       " 1.55898478844554846808762967334548928e+01     3.30469916398588300278287262341537071e+02\n",
       " 1.66982499338482464732035302300235948e+01     3.32006914109467973626842035759374306e+02\n",
       " ⋮                                          ⋱                                           \n",
       " 1.04192332347450409439917803022946533e+02     4.44229422221749812616059631632602944e+02\n",
       " 1.05243775265544782346513239319951616e+02  …  4.45626232301627687445054799205658896e+02\n",
       " 1.06294857461728744172233784747471945e+02     4.47021836269234041424673994388779056e+02\n",
       " 1.07345585248214716177473513526753599e+02     4.48416243761147976074479612068518802e+02\n",
       " 1.08395964761592622905545466305185784e+02     4.49809464288469071155513894338754954e+02\n",
       " 1.09446001969496104130529723271501694e+02     4.51201507239082162585972471041349447e+02\n",
       " 1.10495702676949424040842205777473487e+02  …  4.52592381879869919074378196031466165e+02\n",
       " 1.1154507253241348435545796829582725e+02      4.53982097358874679750749454449240402e+02\n",
       " 1.12594117033548111064966115020951887e+02     4.55370662707410966917277829666394956e+02\n",
       " 1.13642841532706642208669643859268356e+02     4.56758086842130041702062144437768114e+02\n",
       " 1.14691251242177788417878319926179454e+02     4.58144378567037825804829958178903632e+02\n",
       " 1.15739351239188761520426206147803318e+02  …  4.59529546575467469598337936021050021e+02"
      ]
     },
     "execution_count": 8,
     "metadata": {},
     "output_type": "execute_result"
    }
   ],
   "source": [
    "set_bigfloat_precision(113)\n",
    "\n",
    "dummy = besselj_zero(0, 1, BigFloat) \n",
    "j_bf_time = @elapsed j_bf = BigFloat[besselj_zero(ν, m, BigFloat) for ν=0:νmax, m=1:mmax]\n",
    "j_bf"
   ]
  },
  {
   "cell_type": "markdown",
   "metadata": {},
   "source": [
    "Next the same using __Float128__:"
   ]
  },
  {
   "cell_type": "code",
   "execution_count": 9,
   "metadata": {
    "collapsed": false,
    "scrolled": false
   },
   "outputs": [
    {
     "data": {
      "text/plain": [
       "101x100 Array{Quadmath.Float128,2}:\n",
       " 2.40482555769577276862163187932645475e+00  …  3.13374266077527844719690245101902241e+02\n",
       " 3.83170597020751231561443588630816071e+00     3.14943472837767162458065600245612127e+02\n",
       " 5.13562230184068255630140169013776579e+00     3.16509535868128429585533287236806371e+02\n",
       " 6.38016189592398350623661464194270280e+00     3.18072501419144132055026568868862209e+02\n",
       " 7.58834243450380438506963000798561741e+00     3.19632414630425705634404677271588722e+02\n",
       " 8.77148381595995401912286713340956027e+00  …  3.21189319567600315733922205996408600e+02\n",
       " 9.93610952421768489469308912696519267e+00     3.22743259257683369021774485609679029e+02\n",
       " 1.10863700192450838457627644359299991e+01     3.24294275722967013886561795050315039e+02\n",
       " 1.22250922640046551756128047691073987e+01     3.25842410013500062317371915749048547e+02\n",
       " 1.33543004774353310664199248834919212e+01     3.27387702238230273055544191699100512e+02\n",
       " 1.44755006865545412384516376554131522e+01  …  3.28930191594875749289975035297582472e+02\n",
       " 1.55898478844554846808762967334548928e+01     3.30469916398588300278287262341537071e+02\n",
       " 1.66982499338482464732035302300235948e+01     3.32006914109467973626842035759374306e+02\n",
       " ⋮                                          ⋱                                           \n",
       " 1.04192332347450409439917803022946533e+02     4.44229422221749812616059631632602944e+02\n",
       " 1.05243775265544782346513239319951616e+02  …  4.45626232301627687445054799205658896e+02\n",
       " 1.06294857461728744172233784747471945e+02     4.47021836269234041424673994388779056e+02\n",
       " 1.07345585248214716177473513526753599e+02     4.48416243761147976074479612068518802e+02\n",
       " 1.08395964761592622905545466305185784e+02     4.49809464288469071155513894338754954e+02\n",
       " 1.09446001969496104130529723271501694e+02     4.51201507239082162585972471041349447e+02\n",
       " 1.10495702676949424040842205777473487e+02  …  4.52592381879869919074378196031466165e+02\n",
       " 1.11545072532413484355457968295827250e+02     4.53982097358874679750749454449240402e+02\n",
       " 1.12594117033548111064966115020951887e+02     4.55370662707410966917277829666394956e+02\n",
       " 1.13642841532706642208669643859268356e+02     4.56758086842130041702062144437768114e+02\n",
       " 1.14691251242177788417878319926179454e+02     4.58144378567037825804829958178903632e+02\n",
       " 1.15739351239188761520426206147803318e+02  …  4.59529546575467469598337936021050021e+02"
      ]
     },
     "execution_count": 9,
     "metadata": {},
     "output_type": "execute_result"
    }
   ],
   "source": [
    "using Quadmath\n",
    "dummy = besselj_zero(0, 1, Float128) \n",
    "j_f128_time = @elapsed j_f128 = Float128[besselj_zero(ν, m, Float128) for ν=0:νmax, m=1:mmax]\n",
    "j_f128"
   ]
  },
  {
   "cell_type": "markdown",
   "metadata": {},
   "source": [
    "Compare the accuracy:"
   ]
  },
  {
   "cell_type": "code",
   "execution_count": 10,
   "metadata": {
    "collapsed": false
   },
   "outputs": [
    {
     "data": {
      "text/plain": [
       "(8.00142307563709763593351964634848400e-29,1.92592994438723585305597794258492732e-34,1.92592994438723585305597794258492732e-34)"
      ]
     },
     "execution_count": 10,
     "metadata": {},
     "output_type": "execute_result"
    }
   ],
   "source": [
    "maximum((j_f128-j_bf)./j_bf), eps(BigFloat), eps(Float128)"
   ]
  },
  {
   "cell_type": "markdown",
   "metadata": {},
   "source": [
    "Float128 is about 4 times faster than BigFloat:"
   ]
  },
  {
   "cell_type": "code",
   "execution_count": 11,
   "metadata": {
    "collapsed": false
   },
   "outputs": [
    {
     "data": {
      "text/plain": [
       "4.569166586963479"
      ]
     },
     "execution_count": 11,
     "metadata": {},
     "output_type": "execute_result"
    }
   ],
   "source": [
    "j_bf_time/j_f128_time"
   ]
  },
  {
   "cell_type": "markdown",
   "metadata": {},
   "source": [
    "Finally the same using __Float64__:"
   ]
  },
  {
   "cell_type": "code",
   "execution_count": 12,
   "metadata": {
    "collapsed": false
   },
   "outputs": [
    {
     "data": {
      "text/plain": [
       "101x100 Array{Float64,2}:\n",
       "   2.40483    5.52008    8.65373  …  303.95   307.091  310.233  313.374\n",
       "   3.83171    7.01559   10.1735      305.519  308.66   311.802  314.943\n",
       "   5.13562    8.41724   11.6198      307.085  310.226  313.368  316.51 \n",
       "   6.38016    9.76102   13.0152      308.647  311.789  314.931  318.073\n",
       "   7.58834   11.0647    14.3725      310.207  313.349  316.491  319.632\n",
       "   8.77148   12.3386    15.7002   …  311.763  314.905  318.047  321.189\n",
       "   9.93611   13.5893    17.0038      313.317  316.459  319.601  322.743\n",
       "  11.0864    14.8213    18.2876      314.867  318.01   321.152  324.294\n",
       "  12.2251    16.0378    19.5545      316.415  319.557  322.7    325.842\n",
       "  13.3543    17.2412    20.807       317.959  321.102  324.245  327.388\n",
       "  14.4755    18.4335    22.047    …  319.501  322.644  325.787  328.93 \n",
       "  15.5898    19.616     23.2759      321.04   324.183  327.327  330.47 \n",
       "  16.6982    20.7899    24.4949      322.576  325.72   328.863  332.007\n",
       "   ⋮                              ⋱                                    \n",
       " 104.192    109.849    114.991       434.605  437.814  441.022  444.229\n",
       " 105.244    110.917    116.074    …  435.999  439.209  442.418  445.626\n",
       " 106.295    111.985    117.156       437.391  440.602  443.813  447.022\n",
       " 107.346    113.052    118.237       438.782  441.994  445.206  448.416\n",
       " 108.396    114.119    119.318       440.172  443.385  446.598  449.809\n",
       " 109.446    115.186    120.399       441.561  444.775  447.989  451.202\n",
       " 110.496    116.252    121.479    …  442.948  446.164  449.379  452.592\n",
       " 111.545    117.317    122.558       444.334  447.551  450.767  453.982\n",
       " 112.594    118.382    123.637       445.72   448.938  452.155  455.371\n",
       " 113.643    119.447    124.715       447.104  450.323  453.541  456.758\n",
       " 114.691    120.511    125.793       448.486  451.707  454.926  458.144\n",
       " 115.739    121.575    126.871    …  449.868  453.09   456.31   459.53 "
      ]
     },
     "execution_count": 12,
     "metadata": {},
     "output_type": "execute_result"
    }
   ],
   "source": [
    "dummy = besselj_zero(0, 1, Float64)\n",
    "j_f64_time = @elapsed j_f64 = Float64[besselj_zero(ν, m, Float64) for ν=0:νmax, m=1:mmax]\n",
    "j_f64"
   ]
  },
  {
   "cell_type": "code",
   "execution_count": 13,
   "metadata": {
    "collapsed": false
   },
   "outputs": [
    {
     "data": {
      "text/plain": [
       "(5.24593089942647473579027937366297393e-13,2.220446049250313e-16)"
      ]
     },
     "execution_count": 13,
     "metadata": {},
     "output_type": "execute_result"
    }
   ],
   "source": [
    "maximum((j_f128-j_f64)./j_f128), eps(Float64)"
   ]
  },
  {
   "cell_type": "markdown",
   "metadata": {},
   "source": [
    "Float64 is about 50 times faster than Float128:"
   ]
  },
  {
   "cell_type": "code",
   "execution_count": 14,
   "metadata": {
    "collapsed": false
   },
   "outputs": [
    {
     "data": {
      "text/plain": [
       "45.125891168245566"
      ]
     },
     "execution_count": 14,
     "metadata": {},
     "output_type": "execute_result"
    }
   ],
   "source": [
    "j_f128_time/j_f64_time"
   ]
  },
  {
   "cell_type": "markdown",
   "metadata": {},
   "source": [
    "Next we do the same as above with the zeros of the derivatives of the Bessel functions."
   ]
  },
  {
   "cell_type": "code",
   "execution_count": 15,
   "metadata": {
    "collapsed": false
   },
   "outputs": [
    {
     "data": {
      "text/plain": [
       "6.430396875"
      ]
     },
     "execution_count": 15,
     "metadata": {},
     "output_type": "execute_result"
    }
   ],
   "source": [
    "dummy = besseljprime_zero(0, 1, BigFloat) \n",
    "j1_bf_time = @elapsed j1_bf = BigFloat[besseljprime_zero(ν, m, BigFloat) for ν=0:νmax, m=1:mmax]"
   ]
  },
  {
   "cell_type": "code",
   "execution_count": 16,
   "metadata": {
    "collapsed": false
   },
   "outputs": [
    {
     "data": {
      "text/plain": [
       "1.751415851"
      ]
     },
     "execution_count": 16,
     "metadata": {},
     "output_type": "execute_result"
    }
   ],
   "source": [
    "dummy = besseljprime_zero(0, 1, Float128) \n",
    "j1_f128_time = @elapsed j1_f128 = Float128[besseljprime_zero(ν, m, Float128) for ν=0:νmax, m=1:mmax]"
   ]
  },
  {
   "cell_type": "code",
   "execution_count": 17,
   "metadata": {
    "collapsed": false
   },
   "outputs": [
    {
     "data": {
      "text/plain": [
       "1.11116840414273680272377231386047123e-30"
      ]
     },
     "execution_count": 17,
     "metadata": {},
     "output_type": "execute_result"
    }
   ],
   "source": [
    "maximum((j1_f128-j1_bf)./j1_f128)"
   ]
  },
  {
   "cell_type": "code",
   "execution_count": 18,
   "metadata": {
    "collapsed": false
   },
   "outputs": [
    {
     "data": {
      "text/plain": [
       "3.6715420106129892"
      ]
     },
     "execution_count": 18,
     "metadata": {},
     "output_type": "execute_result"
    }
   ],
   "source": [
    "j1_bf_time/j1_f128_time"
   ]
  },
  {
   "cell_type": "code",
   "execution_count": 19,
   "metadata": {
    "collapsed": false
   },
   "outputs": [
    {
     "data": {
      "text/plain": [
       "0.040962442"
      ]
     },
     "execution_count": 19,
     "metadata": {},
     "output_type": "execute_result"
    }
   ],
   "source": [
    "dummy = besselj_zero(0, 1, Float64)\n",
    "j1_f64_time = @elapsed j1_f64 = Float64[besseljprime_zero(ν, m, Float64) for ν=0:νmax, m=1:mmax]"
   ]
  },
  {
   "cell_type": "code",
   "execution_count": 20,
   "metadata": {
    "collapsed": false
   },
   "outputs": [
    {
     "data": {
      "text/plain": [
       "42.75662693645071"
      ]
     },
     "execution_count": 20,
     "metadata": {},
     "output_type": "execute_result"
    }
   ],
   "source": [
    "j1_f128_time/j1_f64_time"
   ]
  },
  {
   "cell_type": "code",
   "execution_count": null,
   "metadata": {
    "collapsed": false
   },
   "outputs": [],
   "source": [
    "maximum((j1_f128-j1_f64)./j1_f128)"
   ]
  },
  {
   "cell_type": "code",
   "execution_count": null,
   "metadata": {
    "collapsed": true
   },
   "outputs": [],
   "source": []
  }
 ],
 "metadata": {
  "kernelspec": {
   "display_name": "Julia 0.4.3",
   "language": "julia",
   "name": "julia-0.4"
  },
  "language_info": {
   "file_extension": ".jl",
   "mimetype": "application/julia",
   "name": "julia",
   "version": "0.4.3"
  }
 },
 "nbformat": 4,
 "nbformat_minor": 0
}
